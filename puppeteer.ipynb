{
 "cells": [
  {
   "attachments": {},
   "cell_type": "markdown",
   "id": "ef50aff5-893a-4d4d-81c1-0a0516fa07bf",
   "metadata": {},
   "source": [
    "<h3>Pupeteer browser init tool (javascript selenium)</h3>"
   ]
  },
  {
   "cell_type": "code",
   "execution_count": null,
   "id": "d5323ca5-1ba4-4fb7-9c61-48d98f9ec294",
   "metadata": {},
   "outputs": [],
   "source": [
    "const puppeteer = require('puppeteer');\n",
    "(async () => {\n",
    "    const browser = await puppeteer.launch({ headless: true, args: [`--no-sandbox`,`--user-data-dir=${path.resolve(__dirname, './') }`,`--window-size=1920,1080`] });\n",
    "    const page = await browser.newPage();\n",
    "    await page.goto('https://openai.com/');\n",
    "    await page.screenshot({ path: 'example.png', fullPage: true });\n",
    "  \n",
    "    await browser.close();\n",
    "  })();"
   ]
  }
 ],
 "metadata": {
  "kernelspec": {
   "display_name": "JavaScript (Node.js)",
   "language": "javascript",
   "name": "javascript"
  },
  "language_info": {
   "file_extension": ".js",
   "mimetype": "application/javascript",
   "name": "javascript",
   "version": "12.22.5"
  }
 },
 "nbformat": 4,
 "nbformat_minor": 5
}
