{
 "cells": [
  {
   "attachments": {},
   "cell_type": "markdown",
   "id": "aa38f6fc",
   "metadata": {},
   "source": [
    "<h3>Python Selenium chrome browser init tool</h3>"
   ]
  },
  {
   "cell_type": "code",
   "execution_count": null,
   "id": "6daf56b2",
   "metadata": {},
   "outputs": [],
   "source": [
    "\n",
    "from selenium import webdriver\n",
    "chromeOptions = webdriver.ChromeOptions() \n",
    "chromeOptions.add_argument(\"--no-sandbox\") \n",
    "chromeOptions.add_argument(\"--disable-setuid-sandbox\") \n",
    "chromeOptions.add_argument(\"--remote-debugging-port=9222\")  # this\n",
    "chromeOptions.add_argument(\"--disable-dev-shm-using\") \n",
    "chromeOptions.add_argument(r\"user-data-dir=.\\cookies\\\\test\") \n",
    "browser = webdriver.Chrome(chrome_options=chromeOptions) \n",
    "# chromeOptions.add_experimental_option(\"prefs\", {\"profile.managed_default_content_settings.images\": 2}) \n",
    "# chromeOptions.add_argument(\"--disable-extensions\") \n",
    "# chromeOptions.add_argument(\"--disable-gpu\") \n",
    "# chromeOptions.add_argument(\"start-maximized\") \n",
    "# chromeOptions.add_argument(\"disable-infobars\")"
   ]
  }
 ],
 "metadata": {
  "kernelspec": {
   "display_name": "Python 3 (ipykernel)",
   "language": "python",
   "name": "python3"
  },
  "language_info": {
   "codemirror_mode": {
    "name": "ipython",
    "version": 3
   },
   "file_extension": ".py",
   "mimetype": "text/x-python",
   "name": "python",
   "nbconvert_exporter": "python",
   "pygments_lexer": "ipython3",
   "version": "3.7.9"
  }
 },
 "nbformat": 4,
 "nbformat_minor": 5
}
